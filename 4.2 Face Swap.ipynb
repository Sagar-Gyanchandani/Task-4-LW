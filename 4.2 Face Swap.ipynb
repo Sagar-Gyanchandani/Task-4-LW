{
 "cells": [
  {
   "cell_type": "markdown",
   "id": "informative-zealand",
   "metadata": {},
   "source": [
    "**Swap a portion of an Image**"
   ]
  },
  {
   "cell_type": "code",
   "execution_count": 1,
   "id": "bound-discussion",
   "metadata": {},
   "outputs": [],
   "source": [
    "import cv2"
   ]
  },
  {
   "cell_type": "code",
   "execution_count": 2,
   "id": "commercial-prague",
   "metadata": {},
   "outputs": [],
   "source": [
    "img1 = cv2.imread('black.PNG')\n",
    "img2 = cv2.imread('red.PNG')"
   ]
  },
  {
   "cell_type": "code",
   "execution_count": 3,
   "id": "fourth-composer",
   "metadata": {},
   "outputs": [],
   "source": [
    "def imgpreview(photo):\n",
    "    cv2.imshow(\"title\", photo)\n",
    "    cv2.waitKey()\n",
    "    cv2.destroyAllWindows()"
   ]
  },
  {
   "cell_type": "code",
   "execution_count": 4,
   "id": "improved-secondary",
   "metadata": {},
   "outputs": [],
   "source": [
    "imgpreview(img1)\n",
    "imgpreview(img2)"
   ]
  },
  {
   "cell_type": "code",
   "execution_count": 8,
   "id": "bizarre-spare",
   "metadata": {},
   "outputs": [],
   "source": [
    "Pict1 = cv2.imread('red.PNG')\n",
    "Pict1[0:100, 0:150] = img1[0:100, 0:150]"
   ]
  },
  {
   "cell_type": "code",
   "execution_count": 9,
   "id": "fourth-turner",
   "metadata": {},
   "outputs": [],
   "source": [
    "Pict2 = cv2.imread('black.PNG')\n",
    "Pict2[0:100, 0:150] = img2[0:100, 0:150]"
   ]
  },
  {
   "cell_type": "code",
   "execution_count": 10,
   "id": "behavioral-barrier",
   "metadata": {},
   "outputs": [],
   "source": [
    "imgpreview(Pict1)\n",
    "imgpreview(Pict2)"
   ]
  },
  {
   "cell_type": "code",
   "execution_count": null,
   "id": "conservative-tiffany",
   "metadata": {},
   "outputs": [],
   "source": []
  }
 ],
 "metadata": {
  "kernelspec": {
   "display_name": "Python 3",
   "language": "python",
   "name": "python3"
  },
  "language_info": {
   "codemirror_mode": {
    "name": "ipython",
    "version": 3
   },
   "file_extension": ".py",
   "mimetype": "text/x-python",
   "name": "python",
   "nbconvert_exporter": "python",
   "pygments_lexer": "ipython3",
   "version": "3.7.3"
  }
 },
 "nbformat": 4,
 "nbformat_minor": 5
}
