{
 "cells": [
  {
   "cell_type": "markdown",
   "id": "favorite-presentation",
   "metadata": {},
   "source": [
    "**Task 4.1 => Create image by yourself Using Python Code**"
   ]
  },
  {
   "cell_type": "code",
   "execution_count": 10,
   "id": "invalid-disaster",
   "metadata": {},
   "outputs": [],
   "source": [
    "import cv2\n",
    "import numpy as np"
   ]
  },
  {
   "cell_type": "code",
   "execution_count": 11,
   "id": "extended-teach",
   "metadata": {},
   "outputs": [],
   "source": [
    "def imgpreview(photo):\n",
    "    cv2.imshow(\"title\", photo)\n",
    "    cv2.waitKey()\n",
    "    cv2.destroyAllWindows()\n",
    "    "
   ]
  },
  {
   "cell_type": "code",
   "execution_count": 12,
   "id": "forty-bloom",
   "metadata": {},
   "outputs": [],
   "source": [
    "img = np.zeros((500,550,3))\n",
    "cv2.rectangle(img, (100,250), (300,450), [0,255,0], 2)\n",
    "cv2.line(img, (100,250), (200,100), [0,255,0], 2)\n",
    "cv2.line(img, (200,100), (300,250), [0,255,0], 2)\n",
    "cv2.rectangle(img, (150,300), (256,450), [0,255,0], 2)\n",
    "cv2.circle(img, (245,365),5, [0,255,0], 2)\n",
    "imgpreview(img)"
   ]
  },
  {
   "cell_type": "code",
   "execution_count": null,
   "id": "illegal-closer",
   "metadata": {},
   "outputs": [],
   "source": []
  }
 ],
 "metadata": {
  "kernelspec": {
   "display_name": "Python 3",
   "language": "python",
   "name": "python3"
  },
  "language_info": {
   "codemirror_mode": {
    "name": "ipython",
    "version": 3
   },
   "file_extension": ".py",
   "mimetype": "text/x-python",
   "name": "python",
   "nbconvert_exporter": "python",
   "pygments_lexer": "ipython3",
   "version": "3.7.3"
  }
 },
 "nbformat": 4,
 "nbformat_minor": 5
}
